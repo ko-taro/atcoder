{
 "cells": [
  {
   "cell_type": "code",
   "execution_count": 7,
   "metadata": {},
   "outputs": [
    {
     "name": "stdin",
     "output_type": "stream",
     "text": [
      " 33\n",
      " ABCCABCBABCCABACBCBBABCBCBCBCABCB\n"
     ]
    },
    {
     "name": "stdout",
     "output_type": "stream",
     "text": [
      "5\n"
     ]
    }
   ],
   "source": [
    "# 文字数Nを取得\n",
    "N = int(input())\n",
    "\n",
    "# 文字列Sを取得\n",
    "S = input()\n",
    "\n",
    "target = 'ABC'\n",
    "counter = 0\n",
    "\n",
    "# 1文字目〜3文字目、2文字目〜4文字目、...というように3文字ずつ比較してスライドするを繰り返すことで全探索する\n",
    "for i in range(0, len(S)-2):\n",
    "    if S[i:i+3] == target:\n",
    "        counter += 1\n",
    "\n",
    "# カウントを出力\n",
    "print(counter)"
   ]
  },
  {
   "cell_type": "code",
   "execution_count": 13,
   "metadata": {},
   "outputs": [
    {
     "name": "stdin",
     "output_type": "stream",
     "text": [
      " 3\n",
      " ABC\n"
     ]
    },
    {
     "name": "stdout",
     "output_type": "stream",
     "text": [
      "1\n"
     ]
    }
   ],
   "source": [
    "# 文字数Nを取得\n",
    "N = int(input())\n",
    "\n",
    "# 文字列Sを取得\n",
    "S = input()\n",
    "\n",
    "# 文字列ABCをセパレータとして文字列を区切ることでカウントする\n",
    "print(len(S.split('ABC')) - 1)"
   ]
  },
  {
   "cell_type": "code",
   "execution_count": 15,
   "metadata": {},
   "outputs": [
    {
     "data": {
      "text/plain": [
       "['', '']"
      ]
     },
     "execution_count": 15,
     "metadata": {},
     "output_type": "execute_result"
    }
   ],
   "source": [
    "S.split('ABC')"
   ]
  },
  {
   "cell_type": "markdown",
   "metadata": {},
   "source": [
    "SABCDABCE\n",
    "S,D,E"
   ]
  },
  {
   "cell_type": "code",
   "execution_count": null,
   "metadata": {},
   "outputs": [],
   "source": [
    "ABCABC\n",
    "ABABA\n"
   ]
  },
  {
   "cell_type": "markdown",
   "metadata": {},
   "source": [
    "target = ABA\n",
    "ABABA"
   ]
  },
  {
   "cell_type": "code",
   "execution_count": 16,
   "metadata": {},
   "outputs": [
    {
     "data": {
      "text/plain": [
       "['', 'BA']"
      ]
     },
     "execution_count": 16,
     "metadata": {},
     "output_type": "execute_result"
    }
   ],
   "source": [
    "'ABABA'.split('ABA')"
   ]
  }
 ],
 "metadata": {
  "kernelspec": {
   "display_name": "Python 3",
   "language": "python",
   "name": "python3"
  },
  "language_info": {
   "codemirror_mode": {
    "name": "ipython",
    "version": 3
   },
   "file_extension": ".py",
   "mimetype": "text/x-python",
   "name": "python",
   "nbconvert_exporter": "python",
   "pygments_lexer": "ipython3",
   "version": "3.7.5"
  }
 },
 "nbformat": 4,
 "nbformat_minor": 2
}
