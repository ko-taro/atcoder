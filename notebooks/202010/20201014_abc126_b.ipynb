{
 "cells": [
  {
   "cell_type": "code",
   "execution_count": 5,
   "metadata": {},
   "outputs": [
    {
     "name": "stdin",
     "output_type": "stream",
     "text": [
      " 1700\n"
     ]
    },
    {
     "name": "stdout",
     "output_type": "stream",
     "text": [
      "NA\n"
     ]
    }
   ],
   "source": [
    "# Sを取得\n",
    "S = input()\n",
    "\n",
    "# Sを前半、後半に分割する\n",
    "s1, s2 = S[:2], S[2:]\n",
    "\n",
    "# 前半、後半それぞれが1〜12の範囲内にあるかどうかを判定\n",
    "is_s1_mm = 1 <= int(s1) <= 12\n",
    "is_s2_mm = 1 <= int(s2) <= 12\n",
    "\n",
    "# 判定内容によって結果を設定\n",
    "ret = 'NA'\n",
    "if is_s1_mm and is_s2_mm:\n",
    "    ret = 'AMBIGUOUS'\n",
    "elif is_s1_mm:\n",
    "    ret = 'MMYY'\n",
    "elif is_s2_mm:\n",
    "    ret = 'YYMM'\n",
    "\n",
    "# 結果出力\n",
    "print(ret)"
   ]
  },
  {
   "cell_type": "code",
   "execution_count": 6,
   "metadata": {},
   "outputs": [
    {
     "name": "stdin",
     "output_type": "stream",
     "text": [
      " 1700\n"
     ]
    },
    {
     "name": "stdout",
     "output_type": "stream",
     "text": [
      "NA\n"
     ]
    }
   ],
   "source": [
    "# Sを取得\n",
    "S = input()\n",
    "\n",
    "# Sを前半、後半に分割する\n",
    "s1, s2 = S[:2], S[2:]\n",
    "\n",
    "# 前半、後半それぞれが1〜12の範囲内にあるかどうかを判定\n",
    "is_s1_mm = 0 if 1 <= int(s1) <= 12 else 1\n",
    "is_s2_mm = 0 if 1 <= int(s2) <= 12 else 1\n",
    "ret = [\n",
    "    ['AMBIGUOUS', 'MMYY'],\n",
    "    ['YYMM', 'NA']\n",
    "]\n",
    "print(ret[is_s1_mm][is_s2_mm])"
   ]
  },
  {
   "cell_type": "code",
   "execution_count": null,
   "metadata": {},
   "outputs": [],
   "source": [
    "# Sを取得\n",
    "S = input()\n",
    "\n",
    "# Sを前半、後半に分割する\n",
    "s1, s2 = S[:2], S[2:]\n",
    "\n",
    "# 前半、後半それぞれが1〜12の範囲内にあるかどうかを判定\n",
    "is_s1_mm = 'MM' if 1 <= int(s1) <= 12 else 'YY'\n",
    "is_s2_mm = 'MM' if 1 <= int(s2) <= 12 else 'YY'\n",
    "\n",
    "ret = is_s1_mm + is_s2_mm\n",
    "if ret == 'MMMM':\n",
    "    ret = 'AMBIGUOUS'\n",
    "elif ret == 'YYYY':\n",
    "    ret = 'NA'\n",
    "    \n",
    "print(ret) "
   ]
  },
  {
   "cell_type": "code",
   "execution_count": 10,
   "metadata": {},
   "outputs": [
    {
     "name": "stdin",
     "output_type": "stream",
     "text": [
      " 0000\n"
     ]
    },
    {
     "name": "stdout",
     "output_type": "stream",
     "text": [
      "NA\n"
     ]
    }
   ],
   "source": [
    "# Sを取得\n",
    "S = input()\n",
    "\n",
    "# Sを前半、後半に分割する\n",
    "s1, s2 = S[:2], S[2:]\n",
    "\n",
    "# 前半、後半それぞれが1〜12の範囲内にあるかどうかを判定\n",
    "is_s1_mm = 'MM' if 1 <= int(s1) <= 12 else 'YY'\n",
    "is_s2_mm = 'MM' if 1 <= int(s2) <= 12 else 'YY'\n",
    "\n",
    "ret = is_s1_mm + is_s2_mm\n",
    "ret_dict = {\n",
    "    'MMMM': 'AMBIGUOUS',\n",
    "    'YYYY': 'NA'\n",
    "}\n",
    "print(ret_dict.get(ret, ret))"
   ]
  },
  {
   "cell_type": "code",
   "execution_count": null,
   "metadata": {},
   "outputs": [],
   "source": []
  }
 ],
 "metadata": {
  "kernelspec": {
   "display_name": "Python 3",
   "language": "python",
   "name": "python3"
  },
  "language_info": {
   "codemirror_mode": {
    "name": "ipython",
    "version": 3
   },
   "file_extension": ".py",
   "mimetype": "text/x-python",
   "name": "python",
   "nbconvert_exporter": "python",
   "pygments_lexer": "ipython3",
   "version": "3.7.5"
  }
 },
 "nbformat": 4,
 "nbformat_minor": 2
}
