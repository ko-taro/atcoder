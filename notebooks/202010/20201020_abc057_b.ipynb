{
 "cells": [
  {
   "cell_type": "code",
   "execution_count": null,
   "metadata": {},
   "outputs": [],
   "source": [
    "import numpy as np\n",
    "N, M = map(int, input().split())\n",
    "S = np.array([list(map(int, input().split())) for i in range(N)])\n",
    "C = np.array([list(map(int, input().split())) for i in range(M)])\n",
    "for s in S:\n",
    "    d = np.apply_along_axis(lambda x: np.abs(x[0]) + np.abs(x[1]), 1, s - C)\n",
    "    print(np.argmin(d) + 1)"
   ]
  }
 ],
 "metadata": {
  "kernelspec": {
   "display_name": "Python 3",
   "language": "python",
   "name": "python3"
  },
  "language_info": {
   "codemirror_mode": {
    "name": "ipython",
    "version": 3
   },
   "file_extension": ".py",
   "mimetype": "text/x-python",
   "name": "python",
   "nbconvert_exporter": "python",
   "pygments_lexer": "ipython3",
   "version": "3.7.5"
  }
 },
 "nbformat": 4,
 "nbformat_minor": 2
}
