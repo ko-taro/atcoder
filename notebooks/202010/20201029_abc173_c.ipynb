{
 "cells": [
  {
   "cell_type": "code",
   "execution_count": 47,
   "metadata": {},
   "outputs": [
    {
     "name": "stdin",
     "output_type": "stream",
     "text": [
      " 2 3 2\n",
      " ..#\n",
      " ###\n"
     ]
    },
    {
     "name": "stdout",
     "output_type": "stream",
     "text": [
      "columns (2,)\n",
      "columns (0, 1)\n",
      "(1,) (0, 1)\n",
      "(1,) (0, 2)\n",
      "(1,) (1, 2)\n",
      "(0, 1) (2,)\n",
      "(0, 1) (0, 1)\n",
      "7\n"
     ]
    }
   ],
   "source": [
    "import itertools\n",
    "import numpy as np\n",
    "\n",
    "# H, W, K\n",
    "H, W, K = map(int, input().split())\n",
    "\n",
    "# cijを取得\n",
    "C = np.array([list(input()) for i in range(H)])\n",
    "\n",
    "rows = [i for i in range(H)]\n",
    "columns = [j for j in range(W)]\n",
    "\n",
    "row_combs = []\n",
    "for i in range(H+1):\n",
    "    row_combs.extend(list(itertools.combinations(rows, i)))\n",
    "    \n",
    "column_combs = []\n",
    "for j in range(W+1):\n",
    "    column_combs.extend(list(itertools.combinations(columns, j)))\n",
    "    \n",
    "ret = 0\n",
    "for rows in row_combs:\n",
    "    for columns in column_combs:\n",
    "        if len(rows) == 0 and len(columns) == 0:\n",
    "            ret += 1 if np.sum(C == '#') == K else 0\n",
    "            \n",
    "        elif len(rows) == 0:\n",
    "            ret += 1 if np.sum(C[:, columns] == '#') == K else 0\n",
    "            if np.sum(C[:, columns] == '#') == K:\n",
    "                print('columns', columns)\n",
    "        elif len(columns) == 0:\n",
    "            ret += 1 if np.sum(C[rows, :] == '#') == K else 0\n",
    "            if np.sum(C[rows, :] == '#') == K:\n",
    "                print('rows',rows)\n",
    "            \n",
    "        else:\n",
    "            tmp_rows = C[rows, :]\n",
    "            tmp_c = tmp_rows[:, columns]\n",
    "            if np.sum(tmp_c == '#') == K:\n",
    "                print(rows, columns)\n",
    "            ret += 1 if np.sum(tmp_c == '#') == K else 0\n",
    "            \n",
    "            \n",
    "print(ret)"
   ]
  },
  {
   "cell_type": "code",
   "execution_count": 48,
   "metadata": {},
   "outputs": [
    {
     "name": "stdin",
     "output_type": "stream",
     "text": [
      " 6 6 8\n",
      " ..##..\n",
      " .#..#.\n",
      " #....#\n",
      " ######\n",
      " #....#\n",
      " #....#\n"
     ]
    },
    {
     "name": "stdout",
     "output_type": "stream",
     "text": [
      "208\n"
     ]
    }
   ],
   "source": [
    "import itertools\n",
    "import numpy as np\n",
    "\n",
    "# H, W, K\n",
    "H, W, K = map(int, input().split())\n",
    "\n",
    "# cijを取得\n",
    "C = np.array([list(input()) for i in range(H)])\n",
    "\n",
    "rows = [i for i in range(H)]\n",
    "columns = [j for j in range(W)]\n",
    "\n",
    "row_combs = []\n",
    "for i in range(H+1):\n",
    "    row_combs.extend(list(itertools.combinations(rows, i)))\n",
    "    \n",
    "column_combs = []\n",
    "for j in range(W+1):\n",
    "    column_combs.extend(list(itertools.combinations(columns, j)))\n",
    "    \n",
    "ret = 0\n",
    "for rows in row_combs:\n",
    "    for columns in column_combs:\n",
    "        tmp_rows = C[rows, :]\n",
    "        tmp_c = tmp_rows[:, columns]\n",
    "        ret += 1 if np.sum(tmp_c == '#') == K else 0\n",
    "                     \n",
    "print(ret)"
   ]
  },
  {
   "cell_type": "code",
   "execution_count": 46,
   "metadata": {},
   "outputs": [
    {
     "data": {
      "text/plain": [
       "array([['#', '#', '#']], dtype='<U1')"
      ]
     },
     "execution_count": 46,
     "metadata": {},
     "output_type": "execute_result"
    }
   ],
   "source": [
    "6 6 8\n",
    "..##..\n",
    ".#..#.\n",
    "#....#\n",
    "######\n",
    "#....#\n",
    "#....#"
   ]
  },
  {
   "cell_type": "code",
   "execution_count": 29,
   "metadata": {},
   "outputs": [
    {
     "data": {
      "text/plain": [
       "array([['.', '.', '#'],\n",
       "       ['#', '#', '#']], dtype='<U1')"
      ]
     },
     "execution_count": 29,
     "metadata": {},
     "output_type": "execute_result"
    }
   ],
   "source": [
    "2 3 2\n",
    " ..#\n",
    " ###"
   ]
  },
  {
   "cell_type": "code",
   "execution_count": 42,
   "metadata": {},
   "outputs": [
    {
     "data": {
      "text/plain": [
       "array([['.', '.', '#']], dtype='<U1')"
      ]
     },
     "execution_count": 42,
     "metadata": {},
     "output_type": "execute_result"
    }
   ],
   "source": [
    "row = C[[0,], :]\n",
    "row"
   ]
  },
  {
   "cell_type": "code",
   "execution_count": 43,
   "metadata": {},
   "outputs": [
    {
     "data": {
      "text/plain": [
       "array([['.', '#']], dtype='<U1')"
      ]
     },
     "execution_count": 43,
     "metadata": {},
     "output_type": "execute_result"
    }
   ],
   "source": [
    "row[:, [1,2]]"
   ]
  }
 ],
 "metadata": {
  "kernelspec": {
   "display_name": "Python 3",
   "language": "python",
   "name": "python3"
  },
  "language_info": {
   "codemirror_mode": {
    "name": "ipython",
    "version": 3
   },
   "file_extension": ".py",
   "mimetype": "text/x-python",
   "name": "python",
   "nbconvert_exporter": "python",
   "pygments_lexer": "ipython3",
   "version": "3.7.5"
  }
 },
 "nbformat": 4,
 "nbformat_minor": 2
}
