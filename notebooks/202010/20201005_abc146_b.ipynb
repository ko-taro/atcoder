{
 "cells": [
  {
   "cell_type": "code",
   "execution_count": 11,
   "metadata": {},
   "outputs": [
    {
     "name": "stdin",
     "output_type": "stream",
     "text": [
      " 2\n",
      " ABCXYZ\n"
     ]
    },
    {
     "name": "stdout",
     "output_type": "stream",
     "text": [
      "CDEZAB\n"
     ]
    }
   ],
   "source": [
    "import numpy as np\n",
    "\n",
    "# 文字列Sのシフト数Nを取得\n",
    "N = int(input())\n",
    "\n",
    "# 文字列Sを取得\n",
    "S = input()\n",
    "\n",
    "# 文字列Sの各文字をasciiに変換\n",
    "ascii_S = np.array(list(map(ord, S))) - 65\n",
    "\n",
    "# asciiの数値をN分シフトさせる\n",
    "shift_ascii_S = list(map(lambda x: 65 + np.mod(x + N, 26), ascii_S))\n",
    "\n",
    "# ascii変換をそれぞれ文字に逆変換して結合\n",
    "shift_S = ''.join(list(map(chr, shift_ascii_S)))\n",
    "\n",
    "# 結果出力\n",
    "print(shift_S)"
   ]
  },
  {
   "cell_type": "code",
   "execution_count": 14,
   "metadata": {},
   "outputs": [
    {
     "name": "stdin",
     "output_type": "stream",
     "text": [
      " 2\n",
      " ABCXYZ\n"
     ]
    },
    {
     "name": "stdout",
     "output_type": "stream",
     "text": [
      "CDEZAB\n"
     ]
    }
   ],
   "source": [
    "import numpy as np\n",
    "\n",
    "# 文字列Sのシフト数Nを取得\n",
    "N = int(input())\n",
    "\n",
    "# 文字列Sを取得\n",
    "S = input()\n",
    "\n",
    "# Aのascii\n",
    "base_ascii = 65\n",
    "\n",
    "# アルファベットリスト\n",
    "als = [chr(a) for a in range(65, 90 + 1)]\n",
    "\n",
    "# 文字列Sの各文字をasciiに変換\n",
    "ascii_S = np.array(list(map(ord, S))) - base_ascii\n",
    "\n",
    "# シフトして結合して出力\n",
    "print(''.join([als[np.mod(s + N, len(als))] for s in ascii_S]))"
   ]
  },
  {
   "cell_type": "code",
   "execution_count": null,
   "metadata": {},
   "outputs": [],
   "source": []
  }
 ],
 "metadata": {
  "kernelspec": {
   "display_name": "Python 3",
   "language": "python",
   "name": "python3"
  },
  "language_info": {
   "codemirror_mode": {
    "name": "ipython",
    "version": 3
   },
   "file_extension": ".py",
   "mimetype": "text/x-python",
   "name": "python",
   "nbconvert_exporter": "python",
   "pygments_lexer": "ipython3",
   "version": "3.7.5"
  }
 },
 "nbformat": 4,
 "nbformat_minor": 2
}
