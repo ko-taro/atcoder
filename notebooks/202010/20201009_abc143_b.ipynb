{
 "cells": [
  {
   "cell_type": "code",
   "execution_count": 15,
   "metadata": {},
   "outputs": [
    {
     "name": "stdin",
     "output_type": "stream",
     "text": [
      " 7\n",
      " 5 0 7 8 3 3 2\n"
     ]
    },
    {
     "name": "stdout",
     "output_type": "stream",
     "text": [
      "312\n"
     ]
    }
   ],
   "source": [
    "from itertools import combinations as cmb\n",
    "import numpy as np\n",
    "\n",
    "# たこ焼きの個数Nを取得\n",
    "N = int(input())\n",
    "\n",
    "# 各たこ焼きの味を取得\n",
    "d = list(map(int, input().split()))\n",
    "\n",
    "# たこ焼きの全組み合わせを作り、xとyに分離させる\n",
    "x, y = np.array(list(cmb(d, 2))).T\n",
    "\n",
    "# 体力の回復量の総和を求めて表示\n",
    "print(np.sum(x*y))"
   ]
  },
  {
   "cell_type": "code",
   "execution_count": null,
   "metadata": {},
   "outputs": [],
   "source": [
    "from itertools import combinations as cmb\n",
    "import numpy as np\n",
    "\n",
    "# たこ焼きの個数Nを取得\n",
    "N = int(input())\n",
    "\n",
    "# 各たこ焼きの味を取得\n",
    "d = list(map(int, input().split()))\n",
    "\n",
    "# たこ焼きの全組み合わせを作り、xとyに分離させる\n",
    "ds = np.array(list(cmb(d, 2)))\n",
    "dot_ds = np.apply_along_axis(lambda x: x[0]*x[1], 1, ds)\n",
    "\n",
    "# 体力の回復量の総和を求めて表示\n",
    "print(np.sum(dot_ds))"
   ]
  },
  {
   "cell_type": "code",
   "execution_count": 16,
   "metadata": {},
   "outputs": [
    {
     "data": {
      "text/plain": [
       "array([5, 5, 5, 5, 5, 5, 0, 0, 0, 0, 0, 7, 7, 7, 7, 8, 8, 8, 3, 3, 3])"
      ]
     },
     "execution_count": 16,
     "metadata": {},
     "output_type": "execute_result"
    }
   ],
   "source": [
    "np.array(list(cmb(d, 2)))[:, 0]"
   ]
  },
  {
   "cell_type": "code",
   "execution_count": 18,
   "metadata": {},
   "outputs": [
    {
     "data": {
      "text/plain": [
       "array([0, 7, 8, 3, 3, 2, 7, 8, 3, 3, 2, 8, 3, 3, 2, 3, 3, 2, 3, 2, 2])"
      ]
     },
     "execution_count": 18,
     "metadata": {},
     "output_type": "execute_result"
    }
   ],
   "source": [
    "np.array(list(cmb(d, 2)))[:, 1]"
   ]
  },
  {
   "cell_type": "code",
   "execution_count": 21,
   "metadata": {},
   "outputs": [],
   "source": [
    "ds = np.array(list(cmb(d, 2)))"
   ]
  },
  {
   "cell_type": "code",
   "execution_count": 24,
   "metadata": {},
   "outputs": [
    {
     "data": {
      "text/plain": [
       "array([[5, 0],\n",
       "       [5, 7],\n",
       "       [5, 8],\n",
       "       [5, 3],\n",
       "       [5, 3],\n",
       "       [5, 2],\n",
       "       [0, 7],\n",
       "       [0, 8],\n",
       "       [0, 3],\n",
       "       [0, 3],\n",
       "       [0, 2],\n",
       "       [7, 8],\n",
       "       [7, 3],\n",
       "       [7, 3],\n",
       "       [7, 2],\n",
       "       [8, 3],\n",
       "       [8, 3],\n",
       "       [8, 2],\n",
       "       [3, 3],\n",
       "       [3, 2],\n",
       "       [3, 2]])"
      ]
     },
     "execution_count": 24,
     "metadata": {},
     "output_type": "execute_result"
    }
   ],
   "source": [
    "ds"
   ]
  },
  {
   "cell_type": "code",
   "execution_count": 26,
   "metadata": {},
   "outputs": [
    {
     "data": {
      "text/plain": [
       "array([ 0, 35, 40, 15, 15, 10,  0,  0,  0,  0,  0, 56, 21, 21, 14, 24, 24,\n",
       "       16,  9,  6,  6])"
      ]
     },
     "execution_count": 26,
     "metadata": {},
     "output_type": "execute_result"
    }
   ],
   "source": [
    "ds.T"
   ]
  },
  {
   "cell_type": "code",
   "execution_count": 23,
   "metadata": {},
   "outputs": [
    {
     "data": {
      "text/plain": [
       "array([ 0, 35, 40, 15, 15, 10,  0,  0,  0,  0,  0, 56, 21, 21, 14, 24, 24,\n",
       "       16,  9,  6,  6])"
      ]
     },
     "execution_count": 23,
     "metadata": {},
     "output_type": "execute_result"
    }
   ],
   "source": [
    "np.apply_along_axis(lambda x: x[0]*x[1], 1, ds)"
   ]
  },
  {
   "cell_type": "code",
   "execution_count": null,
   "metadata": {},
   "outputs": [],
   "source": []
  }
 ],
 "metadata": {
  "kernelspec": {
   "display_name": "Python 3",
   "language": "python",
   "name": "python3"
  },
  "language_info": {
   "codemirror_mode": {
    "name": "ipython",
    "version": 3
   },
   "file_extension": ".py",
   "mimetype": "text/x-python",
   "name": "python",
   "nbconvert_exporter": "python",
   "pygments_lexer": "ipython3",
   "version": "3.7.5"
  }
 },
 "nbformat": 4,
 "nbformat_minor": 2
}
