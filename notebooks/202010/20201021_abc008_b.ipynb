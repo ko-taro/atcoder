{
 "cells": [
  {
   "cell_type": "code",
   "execution_count": 4,
   "metadata": {},
   "outputs": [
    {
     "name": "stdin",
     "output_type": "stream",
     "text": [
      " 4\n",
      " a\n",
      " b\n",
      " b\n",
      " a\n"
     ]
    },
    {
     "name": "stdout",
     "output_type": "stream",
     "text": [
      "a\n"
     ]
    }
   ],
   "source": [
    "import collections\n",
    "\n",
    "# 人数Nを取得\n",
    "N = int(input())\n",
    "\n",
    "# キーがSiで、値が人数である辞書型を作成する\n",
    "d = collections.Counter([input() for i in range(N)])\n",
    "\n",
    "# 人数が最大となるキーSiを求める\n",
    "max_s = max(d, key=d.get)\n",
    "\n",
    "# 結果を出力\n",
    "print(max_s)"
   ]
  },
  {
   "cell_type": "code",
   "execution_count": 7,
   "metadata": {},
   "outputs": [
    {
     "name": "stdin",
     "output_type": "stream",
     "text": [
      " 5\n",
      " a\n",
      " a\n",
      " a\n",
      " b\n",
      " c\n"
     ]
    },
    {
     "name": "stdout",
     "output_type": "stream",
     "text": [
      "a\n"
     ]
    }
   ],
   "source": [
    "N = int(input())\n",
    "\n",
    "d = {}\n",
    "for n in range(N):\n",
    "    s = input()\n",
    "    if s not in d:\n",
    "        d[s] = 1\n",
    "    else:\n",
    "        d[s] += 1\n",
    "    \n",
    "max_s = max(d, key=d.get)\n",
    "\n",
    "print(max_s)"
   ]
  },
  {
   "cell_type": "code",
   "execution_count": 9,
   "metadata": {},
   "outputs": [
    {
     "name": "stdin",
     "output_type": "stream",
     "text": [
      " 4\n",
      " a\n",
      " a\n",
      " b\n",
      " b\n"
     ]
    },
    {
     "name": "stdout",
     "output_type": "stream",
     "text": [
      "a\n"
     ]
    }
   ],
   "source": [
    "N = int(input())\n",
    "\n",
    "d = {}\n",
    "max_v = 0\n",
    "max_s = ''\n",
    "for n in range(N):\n",
    "    s = input()\n",
    "    if s not in d:\n",
    "        d[s] = 1\n",
    "    else:\n",
    "        d[s] += 1\n",
    "        \n",
    "    if d[s] > max_v:\n",
    "        max_v = d[s]\n",
    "        max_s = s\n",
    "\n",
    "print(max_s)"
   ]
  },
  {
   "cell_type": "code",
   "execution_count": 10,
   "metadata": {},
   "outputs": [
    {
     "name": "stdin",
     "output_type": "stream",
     "text": [
      " 4\n",
      " a\n",
      " b\n",
      " b\n",
      " c\n"
     ]
    },
    {
     "name": "stdout",
     "output_type": "stream",
     "text": [
      "b\n"
     ]
    }
   ],
   "source": [
    "import collections\n",
    "\n",
    "# 人数Nを取得\n",
    "N = int(input())\n",
    "\n",
    "# キーがSiで、値が人数である辞書型を作成する\n",
    "d = collections.Counter([input() for i in range(N)])\n",
    "\n",
    "# 人数が最大となるキーSiを求める\n",
    "max_s = d.most_common()[0][0]\n",
    "\n",
    "# 結果を出力\n",
    "print(max_s)"
   ]
  },
  {
   "cell_type": "code",
   "execution_count": 12,
   "metadata": {},
   "outputs": [
    {
     "name": "stdin",
     "output_type": "stream",
     "text": [
      " 4\n",
      " a\n",
      " b\n",
      " b\n",
      " c\n"
     ]
    },
    {
     "name": "stdout",
     "output_type": "stream",
     "text": [
      "b\n"
     ]
    }
   ],
   "source": [
    "# 人数Nを取得\n",
    "N = int(input())\n",
    "\n",
    "S = [input() for i in range(N)]\n",
    "\n",
    "# キーがSiで、値が人数である辞書型を作成する\n",
    "max_v = 0\n",
    "for s in set(S):\n",
    "    counter = S.count(s)\n",
    "    if max_v < counter:\n",
    "        max_v = counter\n",
    "        max_s = s\n",
    "\n",
    "# 結果を出力\n",
    "print(max_s)"
   ]
  },
  {
   "cell_type": "code",
   "execution_count": 13,
   "metadata": {},
   "outputs": [
    {
     "ename": "TypeError",
     "evalue": "'tuple' object does not support item assignment",
     "output_type": "error",
     "traceback": [
      "\u001b[0;31m---------------------------------------------------------------------------\u001b[0m",
      "\u001b[0;31mTypeError\u001b[0m                                 Traceback (most recent call last)",
      "\u001b[0;32m<ipython-input-13-82e140a7394a>\u001b[0m in \u001b[0;36m<module>\u001b[0;34m\u001b[0m\n\u001b[1;32m      1\u001b[0m \u001b[0ma\u001b[0m \u001b[0;34m=\u001b[0m \u001b[0;34m(\u001b[0m\u001b[0;36m1\u001b[0m\u001b[0;34m,\u001b[0m \u001b[0;36m2\u001b[0m\u001b[0;34m)\u001b[0m\u001b[0;34m\u001b[0m\u001b[0;34m\u001b[0m\u001b[0m\n\u001b[0;32m----> 2\u001b[0;31m \u001b[0ma\u001b[0m\u001b[0;34m[\u001b[0m\u001b[0;36m0\u001b[0m\u001b[0;34m]\u001b[0m \u001b[0;34m=\u001b[0m \u001b[0;36m3\u001b[0m\u001b[0;34m\u001b[0m\u001b[0;34m\u001b[0m\u001b[0m\n\u001b[0m\u001b[1;32m      3\u001b[0m \u001b[0ma\u001b[0m\u001b[0;34m\u001b[0m\u001b[0;34m\u001b[0m\u001b[0m\n",
      "\u001b[0;31mTypeError\u001b[0m: 'tuple' object does not support item assignment"
     ]
    }
   ],
   "source": [
    "a = (1, 2)\n",
    "a[0] = 3\n",
    "a"
   ]
  },
  {
   "cell_type": "code",
   "execution_count": null,
   "metadata": {},
   "outputs": [],
   "source": []
  }
 ],
 "metadata": {
  "kernelspec": {
   "display_name": "Python 3",
   "language": "python",
   "name": "python3"
  },
  "language_info": {
   "codemirror_mode": {
    "name": "ipython",
    "version": 3
   },
   "file_extension": ".py",
   "mimetype": "text/x-python",
   "name": "python",
   "nbconvert_exporter": "python",
   "pygments_lexer": "ipython3",
   "version": "3.7.5"
  }
 },
 "nbformat": 4,
 "nbformat_minor": 2
}
