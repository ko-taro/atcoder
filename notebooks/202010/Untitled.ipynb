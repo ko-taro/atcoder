{
 "cells": [
  {
   "cell_type": "code",
   "execution_count": null,
   "metadata": {},
   "outputs": [],
   "source": [
    "N = int(input())\n",
    "\n",
    "\n"
   ]
  },
  {
   "cell_type": "code",
   "execution_count": 1,
   "metadata": {},
   "outputs": [],
   "source": [
    "def Base_n_to_10(X,n):\n",
    "    out = 0\n",
    "    for i in X:\n",
    "        out += int(X[-i])*(n**(i-1))\n",
    "    return out"
   ]
  },
  {
   "cell_type": "code",
   "execution_count": 3,
   "metadata": {},
   "outputs": [
    {
     "data": {
      "text/plain": [
       "[0, 0, 0, 0, 0]"
      ]
     },
     "execution_count": 3,
     "metadata": {},
     "output_type": "execute_result"
    }
   ],
   "source": [
    "n = 5\n",
    "ret = [0 for i in range(n)]\n",
    "ret"
   ]
  },
  {
   "cell_type": "code",
   "execution_count": 22,
   "metadata": {},
   "outputs": [],
   "source": [
    "num = 28\n",
    "shinsu = 26\n",
    "keta = 5\n",
    "\n",
    "for i in range(1,keta+1):\n",
    "    j = num//(shinsu**(keta-i))\n",
    "    ret[i-1] = j\n",
    "    num -= (j)*(shinsu**(keta-i))"
   ]
  },
  {
   "cell_type": "code",
   "execution_count": 23,
   "metadata": {},
   "outputs": [
    {
     "data": {
      "text/plain": [
       "[0, 0, 0, 1, 2]"
      ]
     },
     "execution_count": 23,
     "metadata": {},
     "output_type": "execute_result"
    }
   ],
   "source": [
    "ret"
   ]
  },
  {
   "cell_type": "code",
   "execution_count": 73,
   "metadata": {},
   "outputs": [
    {
     "name": "stdin",
     "output_type": "stream",
     "text": [
      " 27\n"
     ]
    },
    {
     "name": "stdout",
     "output_type": "stream",
     "text": [
      "ba"
     ]
    }
   ],
   "source": [
    "N = int(input()) - 1\n",
    "\n",
    "alpha = [chr(97+i) for i in range(26)]\n",
    "keta=0\n",
    "shinsu = 26\n",
    "for i in range(10**20):\n",
    "    if N<shinsu**(i+1):\n",
    "        keta+=i + 1\n",
    "        break\n",
    "\n",
    "ret = [0 for i in range(keta)]\n",
    "\n",
    "for i in range(1,keta+1):\n",
    "    j = N//(shinsu**(keta-i))\n",
    "    ret[i-1] = j\n",
    "    N -= (j)*(shinsu**(keta-i))\n",
    "\n",
    "for r in ret:\n",
    "    print(alpha[r], end='')"
   ]
  },
  {
   "cell_type": "code",
   "execution_count": 74,
   "metadata": {},
   "outputs": [
    {
     "data": {
      "text/plain": [
       "[1, 0]"
      ]
     },
     "execution_count": 74,
     "metadata": {},
     "output_type": "execute_result"
    }
   ],
   "source": [
    "ret"
   ]
  },
  {
   "cell_type": "code",
   "execution_count": null,
   "metadata": {},
   "outputs": [],
   "source": []
  }
 ],
 "metadata": {
  "kernelspec": {
   "display_name": "Python 3",
   "language": "python",
   "name": "python3"
  },
  "language_info": {
   "codemirror_mode": {
    "name": "ipython",
    "version": 3
   },
   "file_extension": ".py",
   "mimetype": "text/x-python",
   "name": "python",
   "nbconvert_exporter": "python",
   "pygments_lexer": "ipython3",
   "version": "3.7.5"
  }
 },
 "nbformat": 4,
 "nbformat_minor": 2
}
