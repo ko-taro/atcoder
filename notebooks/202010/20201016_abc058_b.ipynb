{
 "cells": [
  {
   "cell_type": "code",
   "execution_count": 2,
   "metadata": {},
   "outputs": [
    {
     "name": "stdin",
     "output_type": "stream",
     "text": [
      " atcoderbeginnercontest\n",
      " atcoderregularcontest\n"
     ]
    },
    {
     "name": "stdout",
     "output_type": "stream",
     "text": [
      "aattccooddeerrbreeggiunlnaerrccoonntteesstt\n"
     ]
    }
   ],
   "source": [
    "# O, Eを取得して\n",
    "O = input()\n",
    "E = input()\n",
    "\n",
    "# OとEの要素を交互に文字列連結させていく\n",
    "ret = ''\n",
    "for i in range(len(O) + len(E)):\n",
    "    if i % 2 == 0:\n",
    "        ret += O[i//2]\n",
    "    else:\n",
    "        ret += E[i//2]\n",
    "\n",
    "# 結果出力\n",
    "print(ret)"
   ]
  },
  {
   "cell_type": "code",
   "execution_count": 3,
   "metadata": {},
   "outputs": [
    {
     "data": {
      "text/plain": [
       "True"
      ]
     },
     "execution_count": 3,
     "metadata": {},
     "output_type": "execute_result"
    }
   ],
   "source": [
    "'aattccooddeerrbreeggiunlnaerrccoonntteesstt' == 'aattccooddeerrbreeggiunlnaerrccoonntteesstt'"
   ]
  },
  {
   "cell_type": "code",
   "execution_count": 2,
   "metadata": {},
   "outputs": [
    {
     "name": "stdin",
     "output_type": "stream",
     "text": [
      " atcoderbeginnercontest\n",
      " atcoderregularcontest\n"
     ]
    },
    {
     "name": "stdout",
     "output_type": "stream",
     "text": [
      "aattccooddeerrbreeggiunlnaerrccoonntteesstt\n"
     ]
    }
   ],
   "source": [
    "# O, Eを取得して\n",
    "O = input()\n",
    "E = input()\n",
    "\n",
    "# OとEの要素を交互に文字列連結させていく\n",
    "ret = ''\n",
    "for i in range(len(O)):\n",
    "    ret += O[i]\n",
    "    ret += '' if len(O)>len(E) and i == len(O) - 1 else E[i]\n",
    "\n",
    "# 結果出力\n",
    "print(ret)"
   ]
  },
  {
   "cell_type": "code",
   "execution_count": 21,
   "metadata": {},
   "outputs": [
    {
     "name": "stdin",
     "output_type": "stream",
     "text": [
      " atcoderbeginnercontest\n",
      " atcoderregularcontest\n"
     ]
    },
    {
     "name": "stdout",
     "output_type": "stream",
     "text": [
      "aattccooddeerrbreeggiunlnaerrccoonntteesstt\n"
     ]
    }
   ],
   "source": [
    "import numpy as np\n",
    "\n",
    "# O, Eを取得して\n",
    "O = list(input())\n",
    "E = list(input())\n",
    "\n",
    "if len(O) != len(E):\n",
    "    E.append('')\n",
    "\n",
    "print(''.join(list(np.array([O, E], dtype=str).T.reshape(-1))))"
   ]
  },
  {
   "cell_type": "code",
   "execution_count": 30,
   "metadata": {},
   "outputs": [
    {
     "data": {
      "text/plain": [
       "array(['a', 'a', 't', 't', 'c', 'c', 'o', 'o', 'd', 'd', 'e', 'e', 'r',\n",
       "       'r', 'b', 'r', 'e', 'e', 'g', 'g', 'i', 'u', 'n', 'l', 'n', 'a',\n",
       "       'e', 'r', 'r', 'c', 'c', 'o', 'o', 'n', 'n', 't', 't', 'e', 'e',\n",
       "       's', 's', 't', 't', ''], dtype='<U1')"
      ]
     },
     "execution_count": 30,
     "metadata": {},
     "output_type": "execute_result"
    }
   ],
   "source": [
    "np.array([O, E], dtype=str).T.reshape(-1)"
   ]
  },
  {
   "cell_type": "code",
   "execution_count": 12,
   "metadata": {},
   "outputs": [
    {
     "data": {
      "text/plain": [
       "['a', 'b', '']"
      ]
     },
     "execution_count": 12,
     "metadata": {},
     "output_type": "execute_result"
    }
   ],
   "source": [
    "t = ['a', 'b']\n",
    "t.append('')\n",
    "t"
   ]
  }
 ],
 "metadata": {
  "kernelspec": {
   "display_name": "Python 3",
   "language": "python",
   "name": "python3"
  },
  "language_info": {
   "codemirror_mode": {
    "name": "ipython",
    "version": 3
   },
   "file_extension": ".py",
   "mimetype": "text/x-python",
   "name": "python",
   "nbconvert_exporter": "python",
   "pygments_lexer": "ipython3",
   "version": "3.7.5"
  }
 },
 "nbformat": 4,
 "nbformat_minor": 2
}
