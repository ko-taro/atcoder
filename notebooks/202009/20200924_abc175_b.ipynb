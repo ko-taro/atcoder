{
 "cells": [
  {
   "cell_type": "code",
   "execution_count": 4,
   "metadata": {},
   "outputs": [
    {
     "name": "stdin",
     "output_type": "stream",
     "text": [
      " 2\n",
      " 1 1\n"
     ]
    },
    {
     "name": "stdout",
     "output_type": "stream",
     "text": [
      "0\n"
     ]
    }
   ],
   "source": [
    "# Nを取得する\n",
    "N = int(input())\n",
    "\n",
    "# L1〜LNをリストとして取得する\n",
    "L = list(map(int, input().split()))\n",
    "\n",
    "# Lの3つの値の組み合わせ全てに対して、三角形の条件を検証する\n",
    "counter = 0\n",
    "for i in range(N-2):\n",
    "    for j in range(i+1, N-1):\n",
    "        for k in range(j+1, N):\n",
    "            # Li, Lj, Lkの値が全て異なることなり、三角形の条件を満たすならカウント＋１ \n",
    "            if len(set([L[i], L[j], L[k]])) == 3 and (L[i] + L[j] > L[k] and L[j] + L[k] > L[i] and L[i] + L[k] > L[j]):\n",
    "                counter += 1\n",
    "\n",
    "# 結果を表示\n",
    "print(counter)"
   ]
  },
  {
   "cell_type": "code",
   "execution_count": 5,
   "metadata": {},
   "outputs": [
    {
     "data": {
      "text/plain": [
       "323400.0"
      ]
     },
     "execution_count": 5,
     "metadata": {},
     "output_type": "execute_result"
    }
   ],
   "source": [
    "100 *99*98 / 3"
   ]
  },
  {
   "cell_type": "code",
   "execution_count": null,
   "metadata": {},
   "outputs": [],
   "source": []
  }
 ],
 "metadata": {
  "kernelspec": {
   "display_name": "Python 3",
   "language": "python",
   "name": "python3"
  },
  "language_info": {
   "codemirror_mode": {
    "name": "ipython",
    "version": 3
   },
   "file_extension": ".py",
   "mimetype": "text/x-python",
   "name": "python",
   "nbconvert_exporter": "python",
   "pygments_lexer": "ipython3",
   "version": "3.7.5"
  }
 },
 "nbformat": 4,
 "nbformat_minor": 2
}
