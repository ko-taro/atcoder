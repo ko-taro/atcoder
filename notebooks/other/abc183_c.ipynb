{
 "cells": [
  {
   "cell_type": "code",
   "execution_count": 36,
   "metadata": {},
   "outputs": [
    {
     "name": "stdout",
     "output_type": "stream",
     "text": [
      "2\n"
     ]
    }
   ],
   "source": [
    "import itertools\n",
    "\n",
    "# N, K = map(int, input().split())\n",
    "# T = [list(map(int, input().split())) for _ in range(N)]\n",
    "\n",
    "N, K = 4, 330\n",
    "T = [\n",
    "    [0, 1, 10, 100],\n",
    " [1, 0, 20, 200],\n",
    " [10, 20, 0, 300],\n",
    " [100, 200, 300, 0]\n",
    "]\n",
    "\n",
    "k = 0\n",
    "for r in itertools.permutations(range(1, N)):\n",
    "    time = T[0][r[0]] + T[r[-1]][0]\n",
    "    for i in range(N-2):\n",
    "        time += T[r[i]][r[i+1]]\n",
    "    if time == K:\n",
    "        k += 1\n",
    "print(k)"
   ]
  },
  {
   "cell_type": "code",
   "execution_count": 31,
   "metadata": {},
   "outputs": [
    {
     "data": {
      "text/plain": [
       "(1, 2, 3)"
      ]
     },
     "execution_count": 31,
     "metadata": {},
     "output_type": "execute_result"
    }
   ],
   "source": [
    "r"
   ]
  },
  {
   "cell_type": "code",
   "execution_count": 15,
   "metadata": {},
   "outputs": [
    {
     "data": {
      "text/plain": [
       "[(1, 2, 3), (1, 3, 2), (2, 1, 3), (2, 3, 1), (3, 1, 2), (3, 2, 1)]"
      ]
     },
     "execution_count": 15,
     "metadata": {},
     "output_type": "execute_result"
    }
   ],
   "source": [
    "seq = list(range(1, N))\n",
    "list(itertools.permutations(seq, N-1))"
   ]
  },
  {
   "cell_type": "code",
   "execution_count": 14,
   "metadata": {},
   "outputs": [
    {
     "data": {
      "text/plain": [
       "[1, 2, 3]"
      ]
     },
     "execution_count": 14,
     "metadata": {},
     "output_type": "execute_result"
    }
   ],
   "source": [
    "seq"
   ]
  },
  {
   "cell_type": "code",
   "execution_count": null,
   "metadata": {},
   "outputs": [],
   "source": [
    "4 330\n",
    "0 1 10 100\n",
    "1 0 20 200\n",
    "10 20 0 300\n",
    "100 200 300 0\n"
   ]
  }
 ],
 "metadata": {
  "kernelspec": {
   "display_name": "Python 3",
   "language": "python",
   "name": "python3"
  },
  "language_info": {
   "codemirror_mode": {
    "name": "ipython",
    "version": 3
   },
   "file_extension": ".py",
   "mimetype": "text/x-python",
   "name": "python",
   "nbconvert_exporter": "python",
   "pygments_lexer": "ipython3",
   "version": "3.8.6"
  }
 },
 "nbformat": 4,
 "nbformat_minor": 4
}
