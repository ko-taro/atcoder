{
 "cells": [
  {
   "cell_type": "code",
   "execution_count": 25,
   "metadata": {},
   "outputs": [
    {
     "name": "stdin",
     "output_type": "stream",
     "text": [
      " 9\n",
      " 8 2\n",
      " 2 3\n",
      " 1 3\n",
      " 3 7\n",
      " 1 0\n",
      " 8 8\n",
      " 5 6\n",
      " 9 7\n",
      " 0 1\n"
     ]
    },
    {
     "name": "stdout",
     "output_type": "stream",
     "text": [
      "Yes\n"
     ]
    }
   ],
   "source": [
    "N = int(input())\n",
    "\n",
    "def line(p1, p2, p3):\n",
    "    return (p2[0] - p1[0])*(p3[1] - p1[1]) == (p2[1] - p1[1])*(p3[0] - p1[0])\n",
    "\n",
    "P = []\n",
    "for n in range(N):\n",
    "    P.append(list(map(int, input().split())))\n",
    "    \n",
    "flag = False\n",
    "for i in range(N-1):\n",
    "    for j in range(i+1, N):\n",
    "        for k in set(range(N)) - set([i, j]):\n",
    "            if line(P[i], P[j], P[k]):\n",
    "                print('Yes')\n",
    "                flag = True\n",
    "                break\n",
    "        if flag:\n",
    "            break\n",
    "    if flag:\n",
    "        break\n",
    "if not flag:\n",
    "    print('No')"
   ]
  },
  {
   "cell_type": "code",
   "execution_count": 37,
   "metadata": {},
   "outputs": [
    {
     "name": "stdin",
     "output_type": "stream",
     "text": [
      " 9\n",
      " 8 2\n",
      " 2 3\n",
      " 1 3\n",
      " 3 7\n",
      " 1 0\n",
      " 8 8\n",
      " 5 6\n",
      " 9 7\n",
      " 0 1\n"
     ]
    },
    {
     "name": "stdout",
     "output_type": "stream",
     "text": [
      "Yes\n",
      "Yes\n"
     ]
    }
   ],
   "source": [
    "import itertools\n",
    "\n",
    "N = int(input())\n",
    "\n",
    "P = [list(map(int, input().split())) for _ in range(N)]\n",
    "\n",
    "flag = False\n",
    "for p1, p2, p3 in itertools.combinations(P, 3):\n",
    "    if (p2[0] - p1[0])*(p3[1] - p1[1]) == (p2[1] - p1[1])*(p3[0] - p1[0]):\n",
    "        flag = True\n",
    "        break\n",
    "\n",
    "print('Yes' if flag else 'No')"
   ]
  },
  {
   "cell_type": "code",
   "execution_count": 38,
   "metadata": {},
   "outputs": [
    {
     "name": "stdout",
     "output_type": "stream",
     "text": [
      "[8, 2] [2, 3] [1, 3]\n",
      "[8, 2] [2, 3] [3, 7]\n",
      "[8, 2] [2, 3] [1, 0]\n",
      "[8, 2] [2, 3] [8, 8]\n",
      "[8, 2] [2, 3] [5, 6]\n",
      "[8, 2] [2, 3] [9, 7]\n",
      "[8, 2] [2, 3] [0, 1]\n",
      "[8, 2] [1, 3] [3, 7]\n",
      "[8, 2] [1, 3] [1, 0]\n",
      "[8, 2] [1, 3] [8, 8]\n",
      "[8, 2] [1, 3] [5, 6]\n",
      "[8, 2] [1, 3] [9, 7]\n",
      "[8, 2] [1, 3] [0, 1]\n",
      "[8, 2] [3, 7] [1, 0]\n",
      "[8, 2] [3, 7] [8, 8]\n",
      "[8, 2] [3, 7] [5, 6]\n",
      "[8, 2] [3, 7] [9, 7]\n",
      "[8, 2] [3, 7] [0, 1]\n",
      "[8, 2] [1, 0] [8, 8]\n",
      "[8, 2] [1, 0] [5, 6]\n",
      "[8, 2] [1, 0] [9, 7]\n",
      "[8, 2] [1, 0] [0, 1]\n",
      "[8, 2] [8, 8] [5, 6]\n",
      "[8, 2] [8, 8] [9, 7]\n",
      "[8, 2] [8, 8] [0, 1]\n",
      "[8, 2] [5, 6] [9, 7]\n",
      "[8, 2] [5, 6] [0, 1]\n",
      "[8, 2] [9, 7] [0, 1]\n",
      "[2, 3] [1, 3] [3, 7]\n",
      "[2, 3] [1, 3] [1, 0]\n",
      "[2, 3] [1, 3] [8, 8]\n",
      "[2, 3] [1, 3] [5, 6]\n",
      "[2, 3] [1, 3] [9, 7]\n",
      "[2, 3] [1, 3] [0, 1]\n",
      "[2, 3] [3, 7] [1, 0]\n",
      "[2, 3] [3, 7] [8, 8]\n",
      "[2, 3] [3, 7] [5, 6]\n",
      "[2, 3] [3, 7] [9, 7]\n",
      "[2, 3] [3, 7] [0, 1]\n",
      "[2, 3] [1, 0] [8, 8]\n",
      "[2, 3] [1, 0] [5, 6]\n",
      "[2, 3] [1, 0] [9, 7]\n",
      "[2, 3] [1, 0] [0, 1]\n",
      "[2, 3] [8, 8] [5, 6]\n",
      "[2, 3] [8, 8] [9, 7]\n",
      "[2, 3] [8, 8] [0, 1]\n",
      "[2, 3] [5, 6] [9, 7]\n",
      "[2, 3] [5, 6] [0, 1]\n",
      "[2, 3] [9, 7] [0, 1]\n",
      "[1, 3] [3, 7] [1, 0]\n",
      "[1, 3] [3, 7] [8, 8]\n",
      "[1, 3] [3, 7] [5, 6]\n",
      "[1, 3] [3, 7] [9, 7]\n",
      "[1, 3] [3, 7] [0, 1]\n",
      "[1, 3] [1, 0] [8, 8]\n",
      "[1, 3] [1, 0] [5, 6]\n",
      "[1, 3] [1, 0] [9, 7]\n",
      "[1, 3] [1, 0] [0, 1]\n",
      "[1, 3] [8, 8] [5, 6]\n",
      "[1, 3] [8, 8] [9, 7]\n",
      "[1, 3] [8, 8] [0, 1]\n",
      "[1, 3] [5, 6] [9, 7]\n",
      "[1, 3] [5, 6] [0, 1]\n",
      "[1, 3] [9, 7] [0, 1]\n",
      "[3, 7] [1, 0] [8, 8]\n",
      "[3, 7] [1, 0] [5, 6]\n",
      "[3, 7] [1, 0] [9, 7]\n",
      "[3, 7] [1, 0] [0, 1]\n",
      "[3, 7] [8, 8] [5, 6]\n",
      "[3, 7] [8, 8] [9, 7]\n",
      "[3, 7] [8, 8] [0, 1]\n",
      "[3, 7] [5, 6] [9, 7]\n",
      "[3, 7] [5, 6] [0, 1]\n",
      "[3, 7] [9, 7] [0, 1]\n",
      "[1, 0] [8, 8] [5, 6]\n",
      "[1, 0] [8, 8] [9, 7]\n",
      "[1, 0] [8, 8] [0, 1]\n",
      "[1, 0] [5, 6] [9, 7]\n",
      "[1, 0] [5, 6] [0, 1]\n",
      "[1, 0] [9, 7] [0, 1]\n",
      "[8, 8] [5, 6] [9, 7]\n",
      "[8, 8] [5, 6] [0, 1]\n",
      "[8, 8] [9, 7] [0, 1]\n",
      "[5, 6] [9, 7] [0, 1]\n"
     ]
    }
   ],
   "source": [
    "N = int(input())\n",
    "\n",
    "def line(p1, p2, p3):\n",
    "    return (p2[0] - p1[0])*(p3[1] - p1[1]) == (p2[1] - p1[1])*(p3[0] - p1[0])\n",
    "\n",
    "P = []\n",
    "for n in range(N):\n",
    "    P.append(list(map(int, input().split())))\n",
    "    \n",
    "flag = False\n",
    "for i in range(N-2):\n",
    "    for j in range(i+1, N-1):\n",
    "        for k in range(j+1, N):\n",
    "            if line(P[i], P[j], P[k]):\n",
    "                print('Yes')\n",
    "                flag = True\n",
    "                break\n",
    "        if flag:\n",
    "            break\n",
    "    if flag:\n",
    "        break\n",
    "if not flag:\n",
    "    print('No')"
   ]
  },
  {
   "cell_type": "code",
   "execution_count": 14,
   "metadata": {},
   "outputs": [
    {
     "data": {
      "text/plain": [
       "([5, 5], [0, 1], [3, 4])"
      ]
     },
     "execution_count": 14,
     "metadata": {},
     "output_type": "execute_result"
    }
   ],
   "source": [
    "P[i], P[j], P[k]"
   ]
  },
  {
   "cell_type": "code",
   "execution_count": 22,
   "metadata": {},
   "outputs": [
    {
     "name": "stdout",
     "output_type": "stream",
     "text": [
      "-1.6\n",
      "-1\n"
     ]
    },
    {
     "data": {
      "text/plain": [
       "False"
      ]
     },
     "execution_count": 22,
     "metadata": {},
     "output_type": "execute_result"
    }
   ],
   "source": [
    "def line(p1, p2, p3):\n",
    "    if p2[0] == p1[0] and p1[0] == p3[0]:\n",
    "        return True\n",
    "    else:\n",
    "        print(((p2[1] - p1[1])/(p2[0] - p1[0]))*(p3[0] - p1[0]))\n",
    "        print(p3[1]-p1[1])\n",
    "        return p3[1] - p1[1] == ((p2[1] - p1[1])/(p2[0] - p1[0]))*(p3[0] - p1[0])\n",
    "line(P[i], P[j], P[k])"
   ]
  },
  {
   "cell_type": "code",
   "execution_count": 23,
   "metadata": {},
   "outputs": [
    {
     "name": "stdout",
     "output_type": "stream",
     "text": [
      "3.0\n",
      "3\n"
     ]
    },
    {
     "data": {
      "text/plain": [
       "True"
      ]
     },
     "execution_count": 23,
     "metadata": {},
     "output_type": "execute_result"
    }
   ],
   "source": [
    "line([-2, 1], [2, 3], [4, 4])"
   ]
  },
  {
   "cell_type": "code",
   "execution_count": 51,
   "metadata": {},
   "outputs": [
    {
     "name": "stdin",
     "output_type": "stream",
     "text": [
      " 14\n",
      " 5 5\n",
      " 0 1\n",
      " 2 5\n",
      " 8 0\n",
      " 2 1\n",
      " 0 0\n",
      " 3 6\n",
      " 8 6\n",
      " 5 9\n",
      " 7 9\n",
      " 3 4\n",
      " 9 2\n",
      " 9 8\n",
      " 7 2\n"
     ]
    },
    {
     "name": "stdout",
     "output_type": "stream",
     "text": [
      "0 6 9\n",
      "5 25 20\n",
      "Yes\n"
     ]
    }
   ],
   "source": [
    "N = int(input())\n",
    " \n",
    "p = [list(map(int, input().split())) for _ in range(N)]\n",
    " \n",
    "f = lambda x, y, z: (z-x-y/2)**2 == x*y\n",
    "\n",
    "res = \"No\"\n",
    "for i in range(N - 2):\n",
    "    for j in range(i + 1, N - 1):\n",
    "        for k in range(j + 1, N):\n",
    "            \n",
    "            x = (p[j][0] - p[i][0]) ** 2 + (p[j][1] - p[i][1]) ** 2\n",
    "            y = (p[k][0] - p[j][0]) ** 2 + (p[k][1] - p[j][1]) ** 2\n",
    "            z = (p[k][0] - p[i][0]) ** 2 + (p[k][1] - p[i][1]) ** 2\n",
    " \n",
    "            if f(x, y, z) or f(x, z, y) or f(y, z, x):\n",
    "                print(i, j, k)\n",
    "                print(x, y, z)\n",
    "                res = \"Yes\"\n",
    "                break\n",
    "        else:\n",
    "            continue\n",
    "        break\n",
    "    else:\n",
    "        continue\n",
    "    break\n",
    "print(res)"
   ]
  },
  {
   "cell_type": "code",
   "execution_count": 52,
   "metadata": {},
   "outputs": [
    {
     "data": {
      "text/plain": [
       "([5, 5], [3, 6], [7, 9])"
      ]
     },
     "execution_count": 52,
     "metadata": {},
     "output_type": "execute_result"
    }
   ],
   "source": [
    "p[i], p[j], p[k]"
   ]
  },
  {
   "cell_type": "code",
   "execution_count": 55,
   "metadata": {},
   "outputs": [
    {
     "data": {
      "text/plain": [
       "True"
      ]
     },
     "execution_count": 55,
     "metadata": {},
     "output_type": "execute_result"
    }
   ],
   "source": [
    "f(x, z, y)"
   ]
  },
  {
   "cell_type": "code",
   "execution_count": 56,
   "metadata": {},
   "outputs": [
    {
     "data": {
      "text/plain": [
       "(100.0, 100)"
      ]
     },
     "execution_count": 56,
     "metadata": {},
     "output_type": "execute_result"
    }
   ],
   "source": [
    "(y - x - z / 2)**2, x*z"
   ]
  },
  {
   "cell_type": "code",
   "execution_count": null,
   "metadata": {},
   "outputs": [],
   "source": [
    "def test():\n",
    "    print((z-x-y/2)**2 == x*y)"
   ]
  },
  {
   "cell_type": "code",
   "execution_count": 49,
   "metadata": {},
   "outputs": [
    {
     "data": {
      "text/plain": [
       "False"
      ]
     },
     "execution_count": 49,
     "metadata": {},
     "output_type": "execute_result"
    }
   ],
   "source": [
    "f(x, y, z) or f(x, z, y) or f(y, z, x)"
   ]
  },
  {
   "cell_type": "code",
   "execution_count": 42,
   "metadata": {},
   "outputs": [
    {
     "data": {
      "text/plain": [
       "True"
      ]
     },
     "execution_count": 42,
     "metadata": {},
     "output_type": "execute_result"
    }
   ],
   "source": [
    "i, j, k = 0, 1, 2\n",
    "p_sort = [\n",
    "    [-2,1],\n",
    "    [2, 3],\n",
    "    [4, 4]\n",
    "]\n",
    "dist1 = ((p_sort[j][0] - p_sort[i][0]) ** 2 + (p_sort[j][1] - p_sort[i][1]) ** 2) ** 0.5\n",
    "dist2 = ((p_sort[k][0] - p_sort[j][0]) ** 2 + (p_sort[k][1] - p_sort[j][1]) ** 2) ** 0.5\n",
    "dist3 = ((p_sort[k][0] - p_sort[i][0]) ** 2 + (p_sort[k][1] - p_sort[i][1]) ** 2) ** 0.5\n",
    "dist1 + dist2 == dist3"
   ]
  },
  {
   "cell_type": "code",
   "execution_count": 43,
   "metadata": {},
   "outputs": [
    {
     "data": {
      "text/plain": [
       "False"
      ]
     },
     "execution_count": 43,
     "metadata": {},
     "output_type": "execute_result"
    }
   ],
   "source": [
    "t = lambda x, y: x==y\n",
    "t(1, 2)"
   ]
  }
 ],
 "metadata": {
  "kernelspec": {
   "display_name": "Python 3",
   "language": "python",
   "name": "python3"
  },
  "language_info": {
   "codemirror_mode": {
    "name": "ipython",
    "version": 3
   },
   "file_extension": ".py",
   "mimetype": "text/x-python",
   "name": "python",
   "nbconvert_exporter": "python",
   "pygments_lexer": "ipython3",
   "version": "3.8.6"
  }
 },
 "nbformat": 4,
 "nbformat_minor": 4
}
