{
 "cells": [
  {
   "cell_type": "code",
   "execution_count": 1,
   "metadata": {},
   "outputs": [
    {
     "name": "stdin",
     "output_type": "stream",
     "text": [
      " 29\n",
      " 20\n",
      " 7\n",
      " 35\n",
      " 120\n"
     ]
    },
    {
     "name": "stdout",
     "output_type": "stream",
     "text": [
      "215\n"
     ]
    }
   ],
   "source": [
    "R = [int(input()) for _ in range(5)]\n",
    "last = None\n",
    "tmp = 10\n",
    "for r in R:\n",
    "    if r%10 != 0 and tmp > r % 10:\n",
    "        last = r\n",
    "        tmp = r % 10\n",
    "\n",
    "if last is not None:\n",
    "    R.remove(last)\n",
    "\n",
    "ret = sum([r if r%10 == 0 else  r + (10 - r%10) for r in R])\n",
    "ret += last if last is not None else 0\n",
    "\n",
    "print(ret)"
   ]
  },
  {
   "cell_type": "code",
   "execution_count": 6,
   "metadata": {},
   "outputs": [
    {
     "data": {
      "text/plain": [
       "array([0, 1, 2, 3])"
      ]
     },
     "execution_count": 6,
     "metadata": {},
     "output_type": "execute_result"
    }
   ],
   "source": [
    "import numpy as np\n",
    "t = np.array([0, 1, 2, 3, 4 ])\n",
    "np.delete(t, 4)"
   ]
  },
  {
   "cell_type": "code",
   "execution_count": 7,
   "metadata": {},
   "outputs": [
    {
     "name": "stdin",
     "output_type": "stream",
     "text": [
      " 29\n",
      " 20\n",
      " 7\n",
      " 35\n",
      " 120\n"
     ]
    },
    {
     "name": "stdout",
     "output_type": "stream",
     "text": [
      "215\n"
     ]
    }
   ],
   "source": [
    "import numpy as np\n",
    "\n",
    "R = np.array([int(input()) for _ in range(5)])\n",
    "\n",
    "g1 = R[R%10 == 0]\n",
    "g2 = R[R%10 != 0]\n",
    "\n",
    "ret = np.sum(g1)\n",
    "\n",
    "if len(g2) > 0:\n",
    "    last_idx = np.argmin(g2%10)\n",
    "\n",
    "    _g2 = np.delete(g2, last_idx)\n",
    "    _g2 = _g2 + (10 - _g2%10)\n",
    "\n",
    "    ret += np.sum(_g2) + g2[last_idx]\n",
    "\n",
    "print(ret)"
   ]
  },
  {
   "cell_type": "code",
   "execution_count": 11,
   "metadata": {},
   "outputs": [
    {
     "data": {
      "text/plain": [
       "0"
      ]
     },
     "execution_count": 11,
     "metadata": {},
     "output_type": "execute_result"
    }
   ],
   "source": [
    "import numpy as np\n",
    "\n",
    "R = np.array([int(input()) for _ in range(5)])\n",
    "\n",
    "g1 = R[R%10 == 0]\n",
    "g2 = R[R%10 != 0]\n",
    "\n",
    "ret = np.sum(g1)\n",
    "\n",
    "if len(g2) > 0:\n",
    "    last_idx = np.argmin(g2%10)\n",
    "    last = g2[last_idx]\n",
    "    g2 = g2 + (10 - g2%10)\n",
    "    ret += np.sum(g2) - g2[last_idx] + last\n",
    "\n",
    "print(ret)"
   ]
  },
  {
   "cell_type": "code",
   "execution_count": null,
   "metadata": {},
   "outputs": [],
   "source": []
  }
 ],
 "metadata": {
  "kernelspec": {
   "display_name": "Python 3",
   "language": "python",
   "name": "python3"
  },
  "language_info": {
   "codemirror_mode": {
    "name": "ipython",
    "version": 3
   },
   "file_extension": ".py",
   "mimetype": "text/x-python",
   "name": "python",
   "nbconvert_exporter": "python",
   "pygments_lexer": "ipython3",
   "version": "3.8.6"
  }
 },
 "nbformat": 4,
 "nbformat_minor": 4
}
