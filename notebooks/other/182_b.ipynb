{
 "cells": [
  {
   "cell_type": "code",
   "execution_count": 4,
   "metadata": {},
   "outputs": [
    {
     "name": "stdin",
     "output_type": "stream",
     "text": [
      " 5\n",
      " 1000 1000 1000 1000 1000\n"
     ]
    },
    {
     "name": "stdout",
     "output_type": "stream",
     "text": [
      "2\n"
     ]
    }
   ],
   "source": [
    "N = int(input())\n",
    "A = list(map(int, input().split()))\n",
    "\n",
    "k_max = max(A)\n",
    "\n",
    "max_gcd = {\n",
    "    'k': 0,\n",
    "    'gcd': 0\n",
    "}\n",
    "\n",
    "# Aが全て同じ素数出会った場合に、k_max+1である必要がある\n",
    "for k in range(2, k_max+1):\n",
    "    k_gcd = 0\n",
    "    for a in A:\n",
    "        if a % k == 0:\n",
    "            k_gcd += 1\n",
    "    if max_gcd['gcd'] < k_gcd:\n",
    "        max_gcd['gcd'] = k_gcd\n",
    "        max_gcd['k'] = k\n",
    "      \n",
    "print(max_gcd['k'])"
   ]
  },
  {
   "cell_type": "code",
   "execution_count": 7,
   "metadata": {},
   "outputs": [
    {
     "name": "stdin",
     "output_type": "stream",
     "text": [
      " 5\n",
      " 10 10 10 10 10\n"
     ]
    },
    {
     "name": "stdout",
     "output_type": "stream",
     "text": [
      "1\n"
     ]
    }
   ],
   "source": [
    "import numpy as np\n",
    "\n",
    "N = int(input())\n",
    "A = np.array(list(map(int, input().split())))\n",
    "\n",
    "k_max = max(A)\n",
    "\n",
    "# Aが全て同じ素数出会った場合に、k_max+1である必要がある\n",
    "max_gcd_k = np.argmax([np.sum(np.mod(A, k) == 0) for k in range(2, k_max+1)]) + 2\n",
    "\n",
    "print(max_gcd_k)"
   ]
  },
  {
   "cell_type": "code",
   "execution_count": 5,
   "metadata": {},
   "outputs": [
    {
     "data": {
      "text/plain": [
       "2"
      ]
     },
     "execution_count": 5,
     "metadata": {},
     "output_type": "execute_result"
    }
   ],
   "source": [
    "import numpy as np\n",
    "\n",
    "N = int(input())\n",
    "A = np.array(list(map(int, input().split())))\n",
    "\n",
    "k_max = max(A)\n",
    "\n",
    "# Aが全て同じ素数出会った場合に、k_max+1である必要がある\n",
    "max_gcd_k = np.argmax([sum(np.mod(A, k) == 0) for k in range(2, k_max+1)]) + 2\n",
    "\n",
    "print(max_gcd_k)"
   ]
  }
 ],
 "metadata": {
  "kernelspec": {
   "display_name": "Python 3",
   "language": "python",
   "name": "python3"
  },
  "language_info": {
   "codemirror_mode": {
    "name": "ipython",
    "version": 3
   },
   "file_extension": ".py",
   "mimetype": "text/x-python",
   "name": "python",
   "nbconvert_exporter": "python",
   "pygments_lexer": "ipython3",
   "version": "3.8.6"
  }
 },
 "nbformat": 4,
 "nbformat_minor": 4
}
