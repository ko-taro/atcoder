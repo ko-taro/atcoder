{
 "cells": [
  {
   "cell_type": "code",
   "execution_count": null,
   "metadata": {},
   "outputs": [],
   "source": [
    "2 4 5"
   ]
  },
  {
   "cell_type": "code",
   "execution_count": 1,
   "metadata": {},
   "outputs": [
    {
     "data": {
      "text/plain": [
       "7.0"
      ]
     },
     "execution_count": 1,
     "metadata": {},
     "output_type": "execute_result"
    }
   ],
   "source": [
    "(1*0.5 + 2*0.5) + ((1+2+3+4)*0.25) + ((1+2+3+4+5)*0.2)"
   ]
  },
  {
   "cell_type": "code",
   "execution_count": 3,
   "metadata": {},
   "outputs": [
    {
     "name": "stdin",
     "output_type": "stream",
     "text": [
      " 10 4\n",
      " 17 13 13 12 15 20 10 13 17 11\n"
     ]
    },
    {
     "name": "stdout",
     "output_type": "stream",
     "text": [
      "32.0\n"
     ]
    }
   ],
   "source": [
    "N, K = map(int, input().split())\n",
    "p = list(map(int, input().split()))\n",
    "max_val = 0\n",
    "cur = [0, 1]\n",
    "cur_val = sum(p[0:K])\n",
    "for i in range(N-K+1):\n",
    "    if max_val < cur_val:\n",
    "        max_val = cur_val\n",
    "        cur[0] = i\n",
    "        cur[1] = i+K\n",
    "    cur_val -= p[i]\n",
    "    if i != N-K:\n",
    "        cur_val += p[i+K]\n",
    "print(sum([(p[i]*(p[i]+1)/2) / p[i] for i in range(cur[0], cur[1])]))"
   ]
  },
  {
   "cell_type": "code",
   "execution_count": 4,
   "metadata": {},
   "outputs": [
    {
     "name": "stdin",
     "output_type": "stream",
     "text": [
      " 10 4\n",
      " 17 13 13 12 15 20 10 13 17 11\n"
     ]
    },
    {
     "name": "stdout",
     "output_type": "stream",
     "text": [
      "32.0\n"
     ]
    }
   ],
   "source": [
    "N, K = map(int, input().split())\n",
    "p = list(map(int, input().split()))\n",
    "\n",
    "max_val = 0\n",
    "cur = 0\n",
    "cur_val = sum(p[0:K])\n",
    "for i in range(N-K+1):\n",
    "    if max_val < cur_val:\n",
    "        max_val = cur_val\n",
    "        cur = i\n",
    "    cur_val -= p[i]\n",
    "    if i != N-K:\n",
    "        cur_val += p[i+K]\n",
    "print(sum([(p[i]*(p[i]+1)/2) / p[i] for i in range(cur, cur+K)]))"
   ]
  },
  {
   "cell_type": "code",
   "execution_count": 19,
   "metadata": {},
   "outputs": [
    {
     "data": {
      "text/plain": [
       "(1, 2)"
      ]
     },
     "execution_count": 19,
     "metadata": {},
     "output_type": "execute_result"
    }
   ],
   "source": [
    "cur = 1, 2\n",
    "cur"
   ]
  }
 ],
 "metadata": {
  "kernelspec": {
   "display_name": "Python 3",
   "language": "python",
   "name": "python3"
  },
  "language_info": {
   "codemirror_mode": {
    "name": "ipython",
    "version": 3
   },
   "file_extension": ".py",
   "mimetype": "text/x-python",
   "name": "python",
   "nbconvert_exporter": "python",
   "pygments_lexer": "ipython3",
   "version": "3.8.6"
  }
 },
 "nbformat": 4,
 "nbformat_minor": 4
}
