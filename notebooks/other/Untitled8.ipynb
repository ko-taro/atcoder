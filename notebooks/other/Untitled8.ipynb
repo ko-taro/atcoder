{
 "cells": [
  {
   "cell_type": "code",
   "execution_count": 3,
   "metadata": {},
   "outputs": [
    {
     "name": "stdin",
     "output_type": "stream",
     "text": [
      " 8\n",
      " 27 23 76 2 3 5 62 52\n"
     ]
    },
    {
     "name": "stdout",
     "output_type": "stream",
     "text": [
      "2\n"
     ]
    }
   ],
   "source": [
    "N = input()\n",
    "W = list(map(int, input().split()))\n",
    "total = sum(W)\n",
    "ret = total - W[0]\n",
    "for i in range(1, len(W)):\n",
    "    ret = min(ret, abs(total - 2 * sum(W[:i])))\n",
    "print(ret)"
   ]
  },
  {
   "cell_type": "code",
   "execution_count": null,
   "metadata": {},
   "outputs": [],
   "source": [
    "\n",
    "S1, S2\n",
    "W = S1 + S2\n",
    "\n",
    "|S1 - S2| = | S1 + S2 - S2 - S2| = | W - 2*S2|"
   ]
  }
 ],
 "metadata": {
  "kernelspec": {
   "display_name": "Python 3",
   "language": "python",
   "name": "python3"
  },
  "language_info": {
   "codemirror_mode": {
    "name": "ipython",
    "version": 3
   },
   "file_extension": ".py",
   "mimetype": "text/x-python",
   "name": "python",
   "nbconvert_exporter": "python",
   "pygments_lexer": "ipython3",
   "version": "3.8.6"
  }
 },
 "nbformat": 4,
 "nbformat_minor": 4
}
