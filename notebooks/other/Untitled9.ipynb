{
 "cells": [
  {
   "cell_type": "raw",
   "metadata": {},
   "source": [
    "1 + 2 + ... + n = n * (n + 1) / 2\n",
    "A + (A+1) + ... + B = (1 + ... + A + ... + B) - (1 + ... (A-1)) = (B*(B+1) / 2) - ((A-1)*A / 2) = (B*(B+1) - (A-1)*A) / 2"
   ]
  },
  {
   "cell_type": "code",
   "execution_count": 3,
   "metadata": {},
   "outputs": [
    {
     "name": "stdin",
     "output_type": "stream",
     "text": [
      " 3\n",
      " 11 13\n",
      " 17 47\n",
      " 359 44683\n"
     ]
    },
    {
     "name": "stdout",
     "output_type": "stream",
     "text": [
      "998244353\n"
     ]
    }
   ],
   "source": [
    "N = int(input())\n",
    "f = lambda x: (x[1]*(x[1] + 1) - (x[0] - 1)*x[0]) / 2\n",
    "ret = sum([f(list(map(int, input().split()))) for _ in range(N)])\n",
    "print(int(ret))"
   ]
  },
  {
   "cell_type": "code",
   "execution_count": null,
   "metadata": {},
   "outputs": [],
   "source": [
    "print(sum(map(lambda x: (x[1]*(x[1] + 1) - (x[0] - 1)*x[0]) // 2, [list(map(int, input().split())) for _ in range(int(input()))])))"
   ]
  }
 ],
 "metadata": {
  "kernelspec": {
   "display_name": "Python 3",
   "language": "python",
   "name": "python3"
  },
  "language_info": {
   "codemirror_mode": {
    "name": "ipython",
    "version": 3
   },
   "file_extension": ".py",
   "mimetype": "text/x-python",
   "name": "python",
   "nbconvert_exporter": "python",
   "pygments_lexer": "ipython3",
   "version": "3.8.6"
  }
 },
 "nbformat": 4,
 "nbformat_minor": 4
}
