{
 "cells": [
  {
   "cell_type": "code",
   "execution_count": 11,
   "metadata": {},
   "outputs": [
    {
     "name": "stdin",
     "output_type": "stream",
     "text": [
      " 10 2 20\n",
      " 9 11\n"
     ]
    },
    {
     "name": "stdout",
     "output_type": "stream",
     "text": [
      "0 9 9\n",
      "11 9 2\n",
      "1\n",
      "3\n",
      "\n"
     ]
    },
    {
     "name": "stdin",
     "output_type": "stream",
     "text": [
      " 13 17\n"
     ]
    },
    {
     "name": "stdout",
     "output_type": "stream",
     "text": [
      "11 13 2\n",
      "17 13 4\n",
      "1\n",
      "5\n",
      "\n",
      "Yes\n"
     ]
    }
   ],
   "source": [
    "N, M, T = map(int, input().split())\n",
    "_N = N\n",
    "bn = 0\n",
    "ret = 'Yes'\n",
    "for i in range(M):\n",
    "    an1, bn1 = map(int, input().split())\n",
    "\n",
    "    _N -= an1 - bn\n",
    "    if _N <= 0:\n",
    "        ret = 'No'\n",
    "        break\n",
    "\n",
    "    _N = min(_N+(bn1 - an1), N)\n",
    "\n",
    "    bn = bn1\n",
    "\n",
    "move_time = \n",
    "_N -= T - bn1\n",
    "if _N <= 0:\n",
    "    ret = 'No'\n",
    "print(ret)"
   ]
  },
  {
   "cell_type": "code",
   "execution_count": 6,
   "metadata": {},
   "outputs": [
    {
     "data": {
      "text/plain": [
       "-13"
      ]
     },
     "execution_count": 6,
     "metadata": {},
     "output_type": "execute_result"
    }
   ],
   "source": [
    "10 2 20\n",
    "9 11\n",
    "13 17"
   ]
  }
 ],
 "metadata": {
  "kernelspec": {
   "display_name": "Python 3",
   "language": "python",
   "name": "python3"
  },
  "language_info": {
   "codemirror_mode": {
    "name": "ipython",
    "version": 3
   },
   "file_extension": ".py",
   "mimetype": "text/x-python",
   "name": "python",
   "nbconvert_exporter": "python",
   "pygments_lexer": "ipython3",
   "version": "3.8.6"
  }
 },
 "nbformat": 4,
 "nbformat_minor": 4
}
