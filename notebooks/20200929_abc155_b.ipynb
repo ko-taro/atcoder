{
 "cells": [
  {
   "cell_type": "markdown",
   "metadata": {},
   "source": [
    "https://atcoder.jp/contests/abc155/tasks/abc155_b"
   ]
  },
  {
   "cell_type": "code",
   "execution_count": 4,
   "metadata": {},
   "outputs": [
    {
     "name": "stdin",
     "output_type": "stream",
     "text": [
      " 3\n",
      " 28 27 24\n"
     ]
    },
    {
     "name": "stdout",
     "output_type": "stream",
     "text": [
      "DENIED\n"
     ]
    }
   ],
   "source": [
    "# 入力値を取得\n",
    "N = int(input())\n",
    "A = list(map(int, input().split()))\n",
    "\n",
    "# （奇数である）または（6または10で割り切れる）という条件を全ての要素に対して判定\n",
    "approved = all([(a % 2 == 1 or a % 6 == 0 or a % 10 == 0) for a in A])\n",
    "\n",
    "# 全ての要素が条件を満たすならAPPROVED、満たさないものが存在する場合はDENIED\n",
    "print('APPROVED' if approved else 'DENIED')"
   ]
  },
  {
   "cell_type": "code",
   "execution_count": 2,
   "metadata": {},
   "outputs": [
    {
     "data": {
      "text/plain": [
       "True"
      ]
     },
     "execution_count": 2,
     "metadata": {},
     "output_type": "execute_result"
    }
   ],
   "source": [
    "all([True, True])"
   ]
  }
 ],
 "metadata": {
  "kernelspec": {
   "display_name": "Python 3",
   "language": "python",
   "name": "python3"
  },
  "language_info": {
   "codemirror_mode": {
    "name": "ipython",
    "version": 3
   },
   "file_extension": ".py",
   "mimetype": "text/x-python",
   "name": "python",
   "nbconvert_exporter": "python",
   "pygments_lexer": "ipython3",
   "version": "3.7.5"
  }
 },
 "nbformat": 4,
 "nbformat_minor": 2
}
