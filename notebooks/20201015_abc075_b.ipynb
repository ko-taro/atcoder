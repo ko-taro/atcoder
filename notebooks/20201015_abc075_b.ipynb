{
 "cells": [
  {
   "cell_type": "code",
   "execution_count": 3,
   "metadata": {},
   "outputs": [
    {
     "ename": "TypeError",
     "evalue": "'str' object does not support item assignment",
     "output_type": "error",
     "traceback": [
      "\u001b[0;31m---------------------------------------------------------------------------\u001b[0m",
      "\u001b[0;31mTypeError\u001b[0m                                 Traceback (most recent call last)",
      "\u001b[0;32m<ipython-input-3-6c1714a1523e>\u001b[0m in \u001b[0;36m<module>\u001b[0;34m\u001b[0m\n\u001b[1;32m      1\u001b[0m \u001b[0mt\u001b[0m \u001b[0;34m=\u001b[0m \u001b[0;34m\"abc\"\u001b[0m\u001b[0;34m\u001b[0m\u001b[0;34m\u001b[0m\u001b[0m\n\u001b[0;32m----> 2\u001b[0;31m \u001b[0mt\u001b[0m\u001b[0;34m[\u001b[0m\u001b[0;36m0\u001b[0m\u001b[0;34m]\u001b[0m \u001b[0;34m=\u001b[0m \u001b[0;34m'd'\u001b[0m\u001b[0;34m\u001b[0m\u001b[0;34m\u001b[0m\u001b[0m\n\u001b[0m",
      "\u001b[0;31mTypeError\u001b[0m: 'str' object does not support item assignment"
     ]
    }
   ],
   "source": [
    "# 入力を取得する\n",
    "H, W = map(int, input().split())\n",
    "S = [input() for i in range(H)]\n",
    "\n",
    "# 一つ一つのマスに対して、周囲八方向に爆弾があるか調べる\n",
    "ret = [\"\" for i in range(H)]\n",
    "for h in range(H):\n",
    "    for w in range(W):\n",
    "        counter = 0\n",
    "        if S[h][w] == \".\":\n",
    "            if h > 0:\n",
    "                up_row = S[h -1][w-1 if w > 0 else 0:w+2]\n",
    "                counter += up_row.count(\"#\")\n",
    "            cur_row = S[h][w-1 if w > 0 else 0:w+2]\n",
    "            counter += cur_row.count(\"#\")\n",
    "\n",
    "            if h < H -1:\n",
    "                under_row = S[h + 1][w-1 if w > 0 else 0:w+2]\n",
    "                counter += under_row.count(\"#\")\n",
    "\n",
    "        ret[h] += str(counter) if S[h][w] == \".\" else \"#\"\n",
    "\n",
    "for r in ret:\n",
    "    print(r)\n",
    "    "
   ]
  },
  {
   "cell_type": "code",
   "execution_count": 5,
   "metadata": {},
   "outputs": [
    {
     "data": {
      "text/plain": [
       "['abc', 'def', 'aaa']"
      ]
     },
     "execution_count": 5,
     "metadata": {},
     "output_type": "execute_result"
    }
   ],
   "source": [
    "t = [\n",
    "    'abc',\n",
    "    'def',\n",
    "    'aaa'\n",
    "]\n",
    "t"
   ]
  },
  {
   "cell_type": "code",
   "execution_count": 7,
   "metadata": {},
   "outputs": [
    {
     "data": {
      "text/plain": [
       "['abc', 'def']"
      ]
     },
     "execution_count": 7,
     "metadata": {},
     "output_type": "execute_result"
    }
   ],
   "source": [
    "t[0:2]"
   ]
  }
 ],
 "metadata": {
  "kernelspec": {
   "display_name": "Python 3",
   "language": "python",
   "name": "python3"
  },
  "language_info": {
   "codemirror_mode": {
    "name": "ipython",
    "version": 3
   },
   "file_extension": ".py",
   "mimetype": "text/x-python",
   "name": "python",
   "nbconvert_exporter": "python",
   "pygments_lexer": "ipython3",
   "version": "3.7.5"
  }
 },
 "nbformat": 4,
 "nbformat_minor": 2
}
